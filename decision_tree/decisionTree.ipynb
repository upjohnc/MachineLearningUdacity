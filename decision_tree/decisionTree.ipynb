{
 "metadata": {
  "name": "",
  "signature": "sha256:bd45848c149020f51e9369be985d2e9dde65e4ee944c868551c1b5dd81d877bd"
 },
 "nbformat": 3,
 "nbformat_minor": 0,
 "worksheets": [
  {
   "cells": [
    {
     "cell_type": "code",
     "collapsed": false,
     "input": [
      "%%python\n",
      "\n",
      "#!/usr/bin/python\n",
      "\n",
      "\"\"\" \n",
      "    this is the code to accompany the Lesson 3 (decision tree) mini-project\n",
      "\n",
      "    use an DT to identify emails from the Enron corpus by their authors\n",
      "    \n",
      "    Sara has label 0\n",
      "    Chris has label 1\n",
      "\n",
      "\"\"\"\n",
      "    \n",
      "import sys\n",
      "from time import time\n",
      "sys.path.append(\"../tools/\")\n",
      "from email_preprocess import preprocess\n",
      "\n",
      "\n",
      "### features_train and features_test are the features for the training\n",
      "### and testing datasets, respectively\n",
      "### labels_train and labels_test are the corresponding item labels\n",
      "features_train, features_test, labels_train, labels_test = preprocess()\n",
      "\n",
      "print len(features_train[0])\n",
      "\n",
      "\n",
      "\n",
      "#########################################################\n",
      "### your code goes here ###\n",
      "'''\n",
      "from sklearn import tree\n",
      "from sklearn.metrics import accuracy_score\n",
      "clf = tree.DecisionTreeClassifier(min_samples_split = 40)\n",
      "clf.fit(features_train, labels_train)\n",
      "\n",
      "predict = clf.predict(features_test)\n",
      "\n",
      "\n",
      "\n",
      "print accuracy_score(labels_test, predict)\n",
      "\n",
      "'''\n",
      "\n",
      "#########################################################\n",
      "\n"
     ],
     "language": "python",
     "metadata": {},
     "outputs": [
      {
       "output_type": "stream",
       "stream": "stdout",
       "text": [
        "no. of Chris training emails: 7936\n",
        "no. of Sara training emails: 7884\n",
        "379\n"
       ]
      }
     ],
     "prompt_number": 10
    },
    {
     "cell_type": "code",
     "collapsed": false,
     "input": [],
     "language": "python",
     "metadata": {},
     "outputs": []
    }
   ],
   "metadata": {}
  }
 ]
}