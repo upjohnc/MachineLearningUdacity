{
 "metadata": {
  "name": "",
  "signature": "sha256:7e240175f3f04cc171b9f556b3cffe96c15529e060328161c5967578e7f9cfa5"
 },
 "nbformat": 3,
 "nbformat_minor": 0,
 "worksheets": [
  {
   "cells": [
    {
     "cell_type": "code",
     "collapsed": false,
     "input": [
      "import pandas as pd\n",
      "\n",
      "temp = pd.read_pickle('your_word_data.pkl')"
     ],
     "language": "python",
     "metadata": {},
     "outputs": [],
     "prompt_number": 5
    },
    {
     "cell_type": "code",
     "collapsed": false,
     "input": [
      "print(temp[150:154])"
     ],
     "language": "python",
     "metadata": {},
     "outputs": [
      {
       "output_type": "stream",
       "stream": "stdout",
       "text": [
        "[' jenf fwrd   houec  09212000 1227 pm \\tro rc rcyroroylbnkcom\\t09212000 1130 \\t\\t \\t\\t  wrrennhmurblkecom wrrennhmurblkecom enrcom enrcom\\t\\t cc mcrhur n nmcrhurroylbnkcom rckbdenmcleoddxcom rckbdenmcleoddxcom\\t\\t ubjec ch coller lnguge dcu ch collerlc rc ro counel royl bnk  cndph 4169745503 fx 4169742217fle h eml my  prvleg nd cfden n demn  ue  h nfm   per or hn  nend recp  unuh f  recev h n err ple dv  md ch collerlc', ' jenfch  rev commod wp cfrm  ddn chng  re wp nd re ll w f npu   bnk', ' jenfephn nd  need nyx clendr', ' jenf wll ke f  mdy nd uedy pr  hnkgv ple dv f n problem ']\n"
       ]
      }
     ],
     "prompt_number": 7
    },
    {
     "cell_type": "code",
     "collapsed": false,
     "input": [],
     "language": "python",
     "metadata": {},
     "outputs": []
    }
   ],
   "metadata": {}
  }
 ]
}