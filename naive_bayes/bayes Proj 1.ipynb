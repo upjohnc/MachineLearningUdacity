{
 "metadata": {
  "name": "",
  "signature": "sha256:4c8fa8bd8431d44b9df05db1063de34da9703d1bb1af56f2a8d0f0f77f129a8d"
 },
 "nbformat": 3,
 "nbformat_minor": 0,
 "worksheets": [
  {
   "cells": [
    {
     "cell_type": "code",
     "collapsed": false,
     "input": [
      "%%python\n",
      "\n",
      "#!/usr/bin/python\n",
      "\n",
      "\"\"\" \n",
      "    this is the code to accompany the Lesson 1 (Naive Bayes) mini-project \n",
      "\n",
      "    use a Naive Bayes Classifier to identify emails by their authors\n",
      "    \n",
      "    authors and labels:\n",
      "    Sara has label 0\n",
      "    Chris has label 1\n",
      "\n",
      "\"\"\"\n",
      "    \n",
      "import sys\n",
      "from time import time\n",
      "sys.path.append(\"../tools/\")\n",
      "from email_preprocess import preprocess\n",
      "\n",
      "\n",
      "### features_train and features_test are the features for the training\n",
      "### and testing datasets, respectively\n",
      "### labels_train and labels_test are the corresponding item labels\n",
      "features_train, features_test, labels_train, labels_test = preprocess()\n",
      "\n",
      "\n",
      "\n",
      "\n",
      "#########################################################\n",
      "### your code goes here ###\n",
      "\n",
      "\n",
      "from sklearn.naive_bayes import GaussianNB\n",
      "t0 = time()\n",
      "clf = GaussianNB()\n",
      "clf.fit(features_train, labels_train)\n",
      "print \"training time:\", round(time()-t0, 3), \"s\"\n",
      "predict = clf.predict(features_test)\n",
      "\n",
      "from sklearn.metrics import accuracy_score\n",
      "\n",
      "print accuracy_score(labels_test, predict)\n",
      "\n",
      "\n",
      "\n",
      "\n",
      "#########################################################\n",
      "\n",
      "\n"
     ],
     "language": "python",
     "metadata": {},
     "outputs": [
      {
       "output_type": "stream",
       "stream": "stdout",
       "text": [
        "no. of Chris training emails: 7936\n",
        "no. of Sara training emails: 7884\n",
        "training time: 7.807 s\n",
        "0.973833902162\n"
       ]
      }
     ],
     "prompt_number": 6
    },
    {
     "cell_type": "code",
     "collapsed": false,
     "input": [
      "%%python\n",
      "from sklearn.metrics import accuracy_score"
     ],
     "language": "python",
     "metadata": {},
     "outputs": [],
     "prompt_number": 4
    },
    {
     "cell_type": "code",
     "collapsed": false,
     "input": [],
     "language": "python",
     "metadata": {},
     "outputs": []
    }
   ],
   "metadata": {}
  }
 ]
}