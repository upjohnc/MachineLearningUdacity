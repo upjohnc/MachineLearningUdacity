{
 "metadata": {
  "name": "",
  "signature": "sha256:3864d9633237ffc3bfe3d80c11927cdf15f7930781aacf758334dd821bb24af6"
 },
 "nbformat": 3,
 "nbformat_minor": 0,
 "worksheets": [
  {
   "cells": [
    {
     "cell_type": "code",
     "collapsed": false,
     "input": [
      "#%%python\n",
      "\n",
      "#!/usr/bin/python\n",
      "\n",
      "\"\"\" \n",
      "    starter code for exploring the Enron dataset (emails + finances) \n",
      "    loads up the dataset (pickled dict of dicts)\n",
      "\n",
      "    the dataset has the form\n",
      "    enron_data[\"LASTNAME FIRSTNAME MIDDLEINITIAL\"] = { features_dict }\n",
      "\n",
      "    {features_dict} is a dictionary of features associated with that person\n",
      "    you should explore features_dict as part of the mini-project,\n",
      "    but here's an example to get you started:\n",
      "\n",
      "    enron_data[\"SKILLING JEFFREY K\"][\"bonus\"] = 5600000\n",
      "    \n",
      "\"\"\"\n",
      "\n",
      "import pickle\n",
      "import pandas as pd\n",
      "\n",
      "# enron_data = pickle.load(open(\"../final_project/final_project_dataset.pkl\", \"r\"))\n",
      "enron_data = pd.read_pickle(\"../final_project/final_project_dataset.pkl\")\n",
      "dfenron = pd.DataFrame(enron_data)\n",
      "dfenron =  dfenron.T\n",
      "\n",
      "# dfenron.reset_index(drop = False, inplace = True)\n",
      "\n",
      "# print type(list(enron_data.index.unique)), enron_data.shape, \n",
      "# print(dfenron.ix['PRENTICE JAMES'])"
     ],
     "language": "python",
     "metadata": {},
     "outputs": []
    },
    {
     "cell_type": "code",
     "collapsed": false,
     "input": [
      "print(dfenron.ix['LAY KENNETH L'], dfenron.shape)"
     ],
     "language": "python",
     "metadata": {},
     "outputs": [
      {
       "output_type": "stream",
       "stream": "stdout",
       "text": [
        "(bonus                                      7000000\n",
        "deferral_payments                           202911\n",
        "deferred_income                            -300000\n",
        "director_fees                                  NaN\n",
        "email_address                kenneth.lay@enron.com\n",
        "exercised_stock_options                   34348384\n",
        "expenses                                     99832\n",
        "from_messages                                   36\n",
        "from_poi_to_this_person                        123\n",
        "from_this_person_to_poi                         16\n",
        "loan_advances                             81525000\n",
        "long_term_incentive                        3600000\n",
        "other                                     10359729\n",
        "poi                                           True\n",
        "restricted_stock                          14761694\n",
        "restricted_stock_deferred                      NaN\n",
        "salary                                     1072321\n",
        "shared_receipt_with_poi                       2411\n",
        "to_messages                                   4273\n",
        "total_payments                           103559793\n",
        "total_stock_value                         49110078\n",
        "Name: LAY KENNETH L, dtype: object, (146, 21))\n"
       ]
      }
     ],
     "prompt_number": 59
    },
    {
     "cell_type": "code",
     "collapsed": false,
     "input": [
      "#print(dfenron.ix[['LAY KENNETH L', 'SKILLING JEFFREY K', 'FASTOW ANDREW S'],'total_payments'])\n",
      "print(dfenron.ix[(dfenron['total_payments'] == 'NaN') & (dfenron['poi'] == True)].shape[0],dfenron.ix[dfenron['poi'] == True].shape[0], dfenron.shape[0])\n",
      "10/ 28.0"
     ],
     "language": "python",
     "metadata": {},
     "outputs": [
      {
       "output_type": "stream",
       "stream": "stdout",
       "text": [
        "(0, 18, 146)\n"
       ]
      },
      {
       "metadata": {},
       "output_type": "pyout",
       "prompt_number": 63,
       "text": [
        "0.35714285714285715"
       ]
      }
     ],
     "prompt_number": 63
    },
    {
     "cell_type": "code",
     "collapsed": false,
     "input": [
      "import pandas as pd\n",
      "\n",
      "data = pd.read_table('../final_project/poi_names.txt')"
     ],
     "language": "python",
     "metadata": {},
     "outputs": [],
     "prompt_number": 20
    },
    {
     "cell_type": "code",
     "collapsed": false,
     "input": [
      "data.shape"
     ],
     "language": "python",
     "metadata": {},
     "outputs": [
      {
       "metadata": {},
       "output_type": "pyout",
       "prompt_number": 22,
       "text": [
        "(36, 1)"
       ]
      }
     ],
     "prompt_number": 22
    },
    {
     "cell_type": "code",
     "collapsed": false,
     "input": [],
     "language": "python",
     "metadata": {},
     "outputs": []
    }
   ],
   "metadata": {}
  }
 ]
}